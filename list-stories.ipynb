{
 "cells": [
  {
   "cell_type": "markdown",
   "metadata": {},
   "source": [
    "# Fetch story samples to analyze"
   ]
  },
  {
   "cell_type": "code",
   "execution_count": 3,
   "metadata": {},
   "outputs": [
    {
     "data": {
      "text/plain": [
       "'Using Media Cloud python client v4.3.0'"
      ]
     },
     "execution_count": 3,
     "metadata": {},
     "output_type": "execute_result"
    }
   ],
   "source": [
    "from IPython.display import JSON\n",
    "import mediacloud.api, datetime, time, json, re, random, os, time, csv\n",
    "import pandas as pd\n",
    "import requests\n",
    "import mcmetadata\n",
    "import datetime as dt\n",
    "from dateutil.relativedelta import relativedelta\n",
    "from importlib.metadata import version\n",
    "from datetime import date, timedelta\n",
    "QUERY_LAST_90_DAYS = \"publish_date:[NOW-90DAY TO NOW]\"\n",
    "QUERY_LAST_MONTH = \"publish_date:[NOW-31DAY TO NOW]\"\n",
    "QUERY_LAST_YEAR = \"publish_date:[NOW-1YEAR TO NOW]\"\n",
    "MC_API_KEY = 'INSERT_KEY_HERE'\n",
    "CID_US_NATIONAL = 34412234\n",
    "mc_search = mediacloud.api.SearchApi(MC_API_KEY)\n",
    "mc_search.TIMEOUT_SECS = 5*60\n",
    "f'Using Media Cloud python client v{version(\"mediacloud\")}'"
   ]
  },
  {
   "cell_type": "code",
   "execution_count": 4,
   "metadata": {},
   "outputs": [
    {
     "name": "stdout",
     "output_type": "stream",
     "text": [
      "prepared 53 dates to study\n"
     ]
    }
   ],
   "source": [
    "from dateutil.rrule import rrule, WEEKLY, TU\n",
    "\n",
    "# generate dates to study over full year\n",
    "start_date = dt.date(2024, 1, 1)\n",
    "end_date = dt.date(2024, 12, 31)\n",
    "\n",
    "# Generate a list of every Tuesday in the year\n",
    "selected_dates = list(rrule(freq=WEEKLY, dtstart=start_date, until=end_date, byweekday=TU))\n",
    "\n",
    "print(f\"prepared {len(selected_dates)} dates to study\")\n"
   ]
  },
  {
   "cell_type": "code",
   "execution_count": 5,
   "metadata": {},
   "outputs": [],
   "source": [
    "def get_story_url_file_path(a_date):\n",
    "    return f\"data/story-urls/stories-on-{a_date}.csv\""
   ]
  },
  {
   "cell_type": "code",
   "execution_count": 6,
   "metadata": {},
   "outputs": [
    {
     "name": "stdout",
     "output_type": "stream",
     "text": [
      "2024-01-02 00:00:00: 6943 stories\n",
      "2024-01-09 00:00:00: 8861 stories\n",
      "2024-01-16 00:00:00: 8732 stories\n",
      "2024-01-23 00:00:00: 9067 stories\n",
      "2024-01-30 00:00:00: 8914 stories\n",
      "2024-02-06 00:00:00: 9135 stories\n",
      "2024-02-13 00:00:00: 9054 stories\n",
      "2024-02-20 00:00:00: 8374 stories\n",
      "2024-02-27 00:00:00: 8974 stories\n",
      "2024-03-05 00:00:00: 9486 stories\n",
      "2024-03-12 00:00:00: 9118 stories\n",
      "2024-03-19 00:00:00: 8555 stories\n",
      "2024-03-26 00:00:00: 8619 stories\n",
      "2024-04-02 00:00:00: 8426 stories\n",
      "2024-04-09 00:00:00: 8260 stories\n",
      "2024-04-16 00:00:00: 8740 stories\n",
      "2024-04-23 00:00:00: 9390 stories\n",
      "2024-04-30 00:00:00: 9423 stories\n",
      "2024-05-07 00:00:00: 10122 stories\n",
      "2024-05-14 00:00:00: 10411 stories\n",
      "2024-05-21 00:00:00: 6576 stories\n",
      "2024-05-28 00:00:00: 8302 stories\n",
      "2024-06-04 00:00:00: 9489 stories\n",
      "2024-06-11 00:00:00: 9408 stories\n",
      "2024-06-18 00:00:00: 9432 stories\n",
      "2024-06-25 00:00:00: 9308 stories\n",
      "2024-07-02 00:00:00: 8939 stories\n",
      "2024-07-09 00:00:00: 8775 stories\n",
      "2024-07-16 00:00:00: 10091 stories\n",
      "2024-07-23 00:00:00: 5351 stories\n",
      "2024-07-30 00:00:00: 502 stories\n",
      "2024-08-06 00:00:00: 9235 stories\n",
      "2024-08-13 00:00:00: 6786 stories\n",
      "2024-08-20 00:00:00: 731 stories\n",
      "2024-08-27 00:00:00: 10072 stories\n",
      "2024-09-03 00:00:00: 595 stories\n",
      "2024-09-10 00:00:00: 5523 stories\n",
      "2024-09-17 00:00:00: 3697 stories\n",
      "2024-09-24 00:00:00: 638 stories\n",
      "2024-10-01 00:00:00: 2635 stories\n",
      "2024-10-08 00:00:00: 3588 stories\n",
      "2024-10-15 00:00:00: 4769 stories\n",
      "2024-10-22 00:00:00: 713 stories\n",
      "2024-10-29 00:00:00: 3658 stories\n",
      "2024-11-05 00:00:00: 1667 stories\n",
      "2024-11-12 00:00:00: 1580 stories\n",
      "2024-11-19 00:00:00: 620 stories\n",
      "2024-11-26 00:00:00: 1688 stories\n",
      "2024-12-03 00:00:00: 1657 stories\n",
      "2024-12-10 00:00:00: 540 stories\n",
      "2024-12-17 00:00:00: 4 stories\n",
      "2024-12-24 00:00:00: 2 stories\n",
      "2024-12-31 00:00:00: 1 stories\n"
     ]
    }
   ],
   "source": [
    "# fetch list of all stories on single day for each week\n",
    "for a_date in selected_dates:\n",
    "    dest_file = get_story_url_file_path(a_date)\n",
    "    if not os.path.exists(dest_file):\n",
    "        my_query = '*' \n",
    "        day_stories = []\n",
    "        more_stories = True\n",
    "        pagination_token = None\n",
    "        while more_stories:\n",
    "            page, pagination_token = mc_search.story_list(my_query, a_date.date(), a_date.date(),\n",
    "                                                        collection_ids=[CID_US_NATIONAL],\n",
    "                                                        pagination_token=pagination_token)\n",
    "            day_stories += page\n",
    "            more_stories = pagination_token is not None\n",
    "        df = pd.DataFrame(day_stories)\n",
    "        df.to_csv(dest_file, index=False)\n",
    "    # load the now-cached data\n",
    "    df = pd.read_csv(dest_file)\n",
    "    print(f\"{a_date}: {df.shape[0]} stories\")"
   ]
  },
  {
   "cell_type": "code",
   "execution_count": 13,
   "metadata": {},
   "outputs": [
    {
     "name": "stdout",
     "output_type": "stream",
     "text": [
      "Sampled 1000 stories for 2024-01-02 00:00:00\n",
      "Sampled 1000 stories for 2024-01-09 00:00:00\n",
      "Sampled 1000 stories for 2024-01-16 00:00:00\n",
      "Sampled 1000 stories for 2024-01-23 00:00:00\n",
      "Sampled 1000 stories for 2024-01-30 00:00:00\n",
      "Sampled 1000 stories for 2024-02-06 00:00:00\n",
      "Sampled 1000 stories for 2024-02-13 00:00:00\n",
      "Sampled 1000 stories for 2024-02-20 00:00:00\n",
      "Sampled 1000 stories for 2024-02-27 00:00:00\n",
      "Sampled 1000 stories for 2024-03-05 00:00:00\n",
      "Sampled 1000 stories for 2024-03-12 00:00:00\n",
      "Sampled 1000 stories for 2024-03-19 00:00:00\n",
      "Sampled 1000 stories for 2024-03-26 00:00:00\n",
      "Sampled 1000 stories for 2024-04-02 00:00:00\n",
      "Sampled 1000 stories for 2024-04-09 00:00:00\n",
      "Sampled 1000 stories for 2024-04-16 00:00:00\n",
      "Sampled 1000 stories for 2024-04-23 00:00:00\n",
      "Sampled 1000 stories for 2024-04-30 00:00:00\n",
      "Sampled 1000 stories for 2024-05-07 00:00:00\n",
      "Sampled 1000 stories for 2024-05-14 00:00:00\n",
      "Sampled 1000 stories for 2024-05-21 00:00:00\n",
      "Sampled 1000 stories for 2024-05-28 00:00:00\n",
      "Sampled 1000 stories for 2024-06-04 00:00:00\n",
      "Sampled 1000 stories for 2024-06-11 00:00:00\n",
      "Sampled 1000 stories for 2024-06-18 00:00:00\n",
      "Sampled 1000 stories for 2024-06-25 00:00:00\n",
      "Sampled 1000 stories for 2024-07-02 00:00:00\n",
      "Sampled 1000 stories for 2024-07-09 00:00:00\n",
      "Sampled 1000 stories for 2024-07-16 00:00:00\n",
      "Sampled 1000 stories for 2024-07-23 00:00:00\n",
      "Sampled 502 stories for 2024-07-30 00:00:00\n",
      "Sampled 1000 stories for 2024-08-06 00:00:00\n",
      "Sampled 1000 stories for 2024-08-13 00:00:00\n",
      "Sampled 731 stories for 2024-08-20 00:00:00\n",
      "Sampled 1000 stories for 2024-08-27 00:00:00\n",
      "Sampled 595 stories for 2024-09-03 00:00:00\n",
      "Sampled 1000 stories for 2024-09-10 00:00:00\n",
      "Sampled 1000 stories for 2024-09-17 00:00:00\n",
      "Sampled 638 stories for 2024-09-24 00:00:00\n",
      "Sampled 1000 stories for 2024-10-01 00:00:00\n",
      "Sampled 1000 stories for 2024-10-08 00:00:00\n",
      "Sampled 1000 stories for 2024-10-15 00:00:00\n",
      "Sampled 713 stories for 2024-10-22 00:00:00\n",
      "Sampled 1000 stories for 2024-10-29 00:00:00\n",
      "Sampled 1000 stories for 2024-11-05 00:00:00\n",
      "Sampled 1000 stories for 2024-11-12 00:00:00\n",
      "Sampled 620 stories for 2024-11-19 00:00:00\n",
      "Sampled 1000 stories for 2024-11-26 00:00:00\n",
      "Sampled 1000 stories for 2024-12-03 00:00:00\n"
     ]
    }
   ],
   "source": [
    "# now pick a 1000 random sample from each set to analyze\n",
    "sample_dir = \"data/sample-story-urls\"\n",
    "os.makedirs(sample_dir, exist_ok=True)\n",
    "\n",
    "for a_date in selected_dates:\n",
    "    src_file = get_story_url_file_path(a_date)\n",
    "    dest_file = f\"{sample_dir}/{a_date.date()}.csv\"\n",
    "    if os.path.exists(src_file):\n",
    "        df = pd.read_csv(src_file)\n",
    "        sample_df = df.sample(n=min(1000, len(df)), random_state=1)\n",
    "        sample_df.to_csv(dest_file, index=False)\n",
    "        print(f\"Sampled {len(sample_df)} stories for {a_date}\")"
   ]
  },
  {
   "cell_type": "code",
   "execution_count": null,
   "metadata": {},
   "outputs": [],
   "source": []
  }
 ],
 "metadata": {
  "kernelspec": {
   "display_name": "jupyter",
   "language": "python",
   "name": "python3"
  },
  "language_info": {
   "codemirror_mode": {
    "name": "ipython",
    "version": 3
   },
   "file_extension": ".py",
   "mimetype": "text/x-python",
   "name": "python",
   "nbconvert_exporter": "python",
   "pygments_lexer": "ipython3",
   "version": "3.11.7"
  }
 },
 "nbformat": 4,
 "nbformat_minor": 2
}
